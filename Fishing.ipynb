{
 "cells": [
  {
   "cell_type": "code",
   "execution_count": 1,
   "metadata": {},
   "outputs": [],
   "source": [
    "from selenium import webdriver\n",
    "from time import sleep\n",
    "from PIL import Image\n",
    "from pytesseract import image_to_string\n",
    "import numpy as np\n",
    "import argparse\n",
    "import imutils\n",
    "import glob\n",
    "import cv2"
   ]
  },
  {
   "cell_type": "code",
   "execution_count": null,
   "metadata": {},
   "outputs": [],
   "source": []
  },
  {
   "cell_type": "code",
   "execution_count": 2,
   "metadata": {},
   "outputs": [],
   "source": [
    "class Bot:\n",
    "    def __init__(self):\n",
    "        self.driver = webdriver.Chrome()\n",
    "        \n",
    "#         self.driver.get('https://www.sberbank.ru/ru/person')\n",
    "#         self.driver.save_screenshot('sber.png')\n",
    "        self.count = 1\n",
    "#         self.driver.get('https://codepunch.com/dnfeed/')\n",
    "#         self.driver.save_screenshot('test.png')\n",
    "        #self.driver.get('https://habr.com/ru/post/210238/')\n",
    "        #self.driver.save_screenshot('habr.png')\n",
    "        #self.driver.get('http://sber-opros.pro/questions-are-loaded.php')\n",
    "        #self.driver.save_screenshot('sber_opros_screenshot.png')\n",
    "        \n",
    "    def read(self, adress):\n",
    "        self.driver.get(adress)\n",
    "        name = str(self.count) + '.png'\n",
    "        self.driver.save_screenshot(name)\n",
    "        self.count += 1\n"
   ]
  },
  {
   "cell_type": "code",
   "execution_count": 3,
   "metadata": {},
   "outputs": [],
   "source": [
    "bot = Bot()"
   ]
  },
  {
   "cell_type": "code",
   "execution_count": 4,
   "metadata": {},
   "outputs": [
    {
     "data": {
      "text/plain": [
       "2"
      ]
     },
     "execution_count": 4,
     "metadata": {},
     "output_type": "execute_result"
    }
   ],
   "source": [
    "bot.read('https://habr.com/ru/users/Sberbank/')"
   ]
  },
  {
   "cell_type": "code",
   "execution_count": 5,
   "metadata": {},
   "outputs": [],
   "source": [
    "template = cv2.imread('logo.png')\n",
    "template = cv2.cvtColor(template, cv2.COLOR_BGR2GRAY)\n",
    "template = cv2.resize(template,(20, 20))\n",
    "(tH, tW) = template.shape[:2]\n",
    "#cv2.imshow(\"Template\", template)\n",
    "#cv2.waitKey()"
   ]
  },
  {
   "cell_type": "code",
   "execution_count": 10,
   "metadata": {},
   "outputs": [],
   "source": [
    "#image = cv2.imread(\"habr.png\")\n",
    "#image = cv2.imread(\"sber_opros_screenshot.png\")\n",
    "#image = cv2.imread(\"sber.png\")\n",
    "name = str(bot.count-1) + '.png'\n",
    "image = cv2.imread(name)\n",
    "gray = cv2.cvtColor(image, cv2.COLOR_BGR2GRAY)\n",
    "found = None"
   ]
  },
  {
   "cell_type": "code",
   "execution_count": 11,
   "metadata": {},
   "outputs": [
    {
     "name": "stdout",
     "output_type": "stream",
     "text": [
      "1559863.375\n",
      "1392708.0\n",
      "1420301.75\n",
      "1122663.0\n",
      "1071863.75\n",
      "1063301.75\n",
      "1084289.375\n",
      "1122431.0\n",
      "1053040.375\n",
      "1217739.125\n",
      "1080425.5\n",
      "1014712.5625\n",
      "916785.5625\n",
      "900156.375\n",
      "1002156.375\n",
      "908347.625\n",
      "917094.25\n",
      "861565.4375\n",
      "994297.6875\n",
      "887977.6875\n"
     ]
    }
   ],
   "source": [
    "for scale in np.linspace(0.2, 1.0, 20)[::-1]:\n",
    "    resized = imutils.resize(gray, width = int(gray.shape[1] * scale))\n",
    "    r = gray.shape[1] / float(resized.shape[1])\n",
    " \n",
    "    if resized.shape[0] < tH or resized.shape[1] < tW:\n",
    "        break\n",
    "    \n",
    "    edged = cv2.Canny(resized, 50, 200)\n",
    "    result = cv2.matchTemplate(edged, template, cv2.TM_CCOEFF)\n",
    "    (_, maxVal, _, maxLoc) = cv2.minMaxLoc(result)\n",
    "\n",
    "    clone = np.dstack([edged, edged, edged])\n",
    "    cv2.rectangle(clone, (maxLoc[0], maxLoc[1]),\n",
    "    (maxLoc[0] + tW, maxLoc[1] + tH), (0, 0, 255), 2)\n",
    "    #cv2.imshow(\"Visualize\", clone)\n",
    "    #cv2.waitKey(0)\n",
    "    print(maxVal)\n",
    "\n",
    "    if found is None or maxVal > found[0]:\n",
    "        found = (maxVal, maxLoc, r)"
   ]
  },
  {
   "cell_type": "code",
   "execution_count": 12,
   "metadata": {},
   "outputs": [
    {
     "name": "stdout",
     "output_type": "stream",
     "text": [
      "1559863.375\n"
     ]
    },
    {
     "data": {
      "text/plain": [
       "-1"
      ]
     },
     "execution_count": 12,
     "metadata": {},
     "output_type": "execute_result"
    }
   ],
   "source": [
    "print(found[0])\n",
    "if found[0] < 1200000.0:\n",
    "    print(\"NOT SBERBANK LOGO\")\n",
    "    \n",
    "(_, maxLoc, r) = found\n",
    "(startX, startY) = (int(maxLoc[0] * r), int(maxLoc[1] * r))\n",
    "(endX, endY) = (int((maxLoc[0] + tW) * r), int((maxLoc[1] + tH) * r))\n",
    " \n",
    "cv2.rectangle(image, (startX, startY), (endX, endY), (0, 0, 255), 2)\n",
    "cv2.imshow(\"ImageDetected\", image)\n",
    "cv2.waitKey(0)"
   ]
  },
  {
   "cell_type": "code",
   "execution_count": null,
   "metadata": {},
   "outputs": [],
   "source": [
    "\n"
   ]
  },
  {
   "cell_type": "code",
   "execution_count": null,
   "metadata": {},
   "outputs": [],
   "source": []
  },
  {
   "cell_type": "code",
   "execution_count": null,
   "metadata": {},
   "outputs": [],
   "source": []
  },
  {
   "cell_type": "code",
   "execution_count": null,
   "metadata": {},
   "outputs": [],
   "source": []
  },
  {
   "cell_type": "code",
   "execution_count": null,
   "metadata": {},
   "outputs": [],
   "source": []
  },
  {
   "cell_type": "code",
   "execution_count": null,
   "metadata": {},
   "outputs": [],
   "source": []
  },
  {
   "cell_type": "code",
   "execution_count": null,
   "metadata": {},
   "outputs": [],
   "source": []
  },
  {
   "cell_type": "code",
   "execution_count": null,
   "metadata": {},
   "outputs": [],
   "source": []
  },
  {
   "cell_type": "code",
   "execution_count": 32,
   "metadata": {},
   "outputs": [
    {
     "data": {
      "text/plain": [
       "['xn----7sbcarcdzob4a7age2a.xn--p1ai/',\n",
       " 'sber-bonus.club/',\n",
       " 'sb-on-line.ru/',\n",
       " 'opros-2019.com',\n",
       " 'sber-opros.pro']"
      ]
     },
     "execution_count": 32,
     "metadata": {},
     "output_type": "execute_result"
    }
   ],
   "source": [
    "t = '''xn----7sbcarcdzob4a7age2a.xn--p1ai/,sber-bonus.club/,sb-on-line.ru/,opros-2019.com,sber-opros.pro'''.split(',')\n",
    "t"
   ]
  },
  {
   "cell_type": "code",
   "execution_count": null,
   "metadata": {},
   "outputs": [],
   "source": [
    "\n"
   ]
  },
  {
   "cell_type": "code",
   "execution_count": null,
   "metadata": {},
   "outputs": [],
   "source": []
  },
  {
   "cell_type": "code",
   "execution_count": null,
   "metadata": {},
   "outputs": [],
   "source": []
  },
  {
   "cell_type": "code",
   "execution_count": null,
   "metadata": {},
   "outputs": [],
   "source": []
  }
 ],
 "metadata": {
  "kernelspec": {
   "display_name": "Python 3",
   "language": "python",
   "name": "python3"
  },
  "language_info": {
   "codemirror_mode": {
    "name": "ipython",
    "version": 3
   },
   "file_extension": ".py",
   "mimetype": "text/x-python",
   "name": "python",
   "nbconvert_exporter": "python",
   "pygments_lexer": "ipython3",
   "version": "3.7.1"
  }
 },
 "nbformat": 4,
 "nbformat_minor": 2
}
